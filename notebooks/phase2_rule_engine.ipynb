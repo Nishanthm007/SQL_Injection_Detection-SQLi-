{
 "cells": [
  {
   "cell_type": "code",
   "execution_count": 1,
   "id": "506c8084",
   "metadata": {},
   "outputs": [
    {
     "name": "stdout",
     "output_type": "stream",
     "text": [
      "================================================================================\n",
      "PHASE 2: RULE-BASED SQL INJECTION DETECTION ENGINE\n",
      "================================================================================\n",
      "\n",
      "Day 11: Requirements & Attack Taxonomy Definition\n",
      "Objective: Define attack categories, examples, and operational constraints\n",
      "\n",
      "================================================================================\n",
      "SECTION 1: ATTACK TAXONOMY DEFINITION\n",
      "================================================================================\n",
      "\n",
      "Defining 6 primary SQL injection attack categories...\n",
      "\n",
      "Attack Categories Defined: 6\n",
      "----------------------------------------------------------------------\n",
      "\n",
      "TAU: Tautology-Based Injection\n",
      "   Severity: HIGH\n",
      "   Description: Exploits always-true conditions to bypass authentication or retrieve all records\n",
      "   Example patterns: 8\n",
      "   Keywords tracked: 6\n",
      "\n",
      "UNI: UNION-Based Injection\n",
      "   Severity: CRITICAL\n",
      "   Description: Uses UNION operator to combine malicious query with legitimate one\n",
      "   Example patterns: 7\n",
      "   Keywords tracked: 5\n",
      "\n",
      "CMT: Comment-Based Injection\n",
      "   Severity: HIGH\n",
      "   Description: Uses SQL comments to truncate queries and bypass validation\n",
      "   Example patterns: 8\n",
      "   Keywords tracked: 4\n",
      "\n",
      "STK: Stacked Queries Injection\n",
      "   Severity: CRITICAL\n",
      "   Description: Executes multiple SQL statements in a single query using semicolons\n",
      "   Example patterns: 7\n",
      "   Keywords tracked: 7\n",
      "\n",
      "TMB: Time-Based Blind Injection\n",
      "   Severity: CRITICAL\n",
      "   Description: Infers information based on response time delays\n",
      "   Example patterns: 7\n",
      "   Keywords tracked: 5\n",
      "\n",
      "ADV: Advanced & Evasion Techniques\n",
      "   Severity: CRITICAL\n",
      "   Description: Complex attacks using encoding, obfuscation, or stored procedures\n",
      "   Example patterns: 8\n",
      "   Keywords tracked: 11\n",
      "\n",
      "================================================================================\n",
      "SECTION 2: DETAILED ATTACK EXAMPLES WITH BEHAVIOR\n",
      "================================================================================\n",
      "\n",
      "Sample Attack Examples by Category:\n",
      "====================================================================================================\n",
      "Category                   Attack Type                                                     Example Severity                   Target\n",
      "     TAU     Tautology-Based Injection                                                 ' OR '1'='1     HIGH              Login forms\n",
      "     TAU     Tautology-Based Injection                                                  ' OR 1=1--     HIGH              Login forms\n",
      "     TAU     Tautology-Based Injection                                         admin' OR '1'='1'--     HIGH              Login forms\n",
      "     UNI         UNION-Based Injection                                 ' UNION SELECT NULL, NULL-- CRITICAL Data retrieval endpoints\n",
      "     UNI         UNION-Based Injection          ' UNION ALL SELECT username, password FROM users-- CRITICAL Data retrieval endpoints\n",
      "     UNI         UNION-Based Injection 1' UNION SELECT table_name FROM information_schema.tables-- CRITICAL Data retrieval endpoints\n",
      "     CMT       Comment-Based Injection                                                    admin'--     HIGH              Login forms\n",
      "     CMT       Comment-Based Injection                                                  ' OR 1=1--     HIGH              Login forms\n",
      "     CMT       Comment-Based Injection                                       '; DROP TABLE users--     HIGH              Login forms\n",
      "     STK     Stacked Queries Injection                                       '; DROP TABLE users-- CRITICAL            API endpoints\n",
      "     STK     Stacked Queries Injection                     '; UPDATE users SET password='hacked'-- CRITICAL            API endpoints\n",
      "     STK     Stacked Queries Injection                     '; INSERT INTO logs VALUES ('breach')-- CRITICAL            API endpoints\n",
      "     TMB    Time-Based Blind Injection                                            ' AND SLEEP(5)-- CRITICAL    Boolean-based queries\n",
      "     TMB    Time-Based Blind Injection                               '; WAITFOR DELAY '00:00:05'-- CRITICAL    Boolean-based queries\n",
      "     TMB    Time-Based Blind Injection                                ' AND IF(1=1, SLEEP(5), 0)-- CRITICAL    Boolean-based queries\n",
      "     ADV Advanced & Evasion Techniques                                                0x61646d696e CRITICAL            API endpoints\n",
      "     ADV Advanced & Evasion Techniques            CHAR(97)+CHAR(100)+CHAR(109)+CHAR(105)+CHAR(110) CRITICAL            API endpoints\n",
      "     ADV Advanced & Evasion Techniques                           '; EXEC xp_cmdshell('net user')-- CRITICAL            API endpoints\n",
      "\n",
      "================================================================================\n",
      "SECTION 3: OPERATIONAL CONSTRAINTS & REQUIREMENTS\n",
      "================================================================================\n",
      "\n",
      "Performance Requirements:\n",
      "----------------------------------------------------------------------\n",
      "  max_latency_per_query_ms: 10\n",
      "  target_throughput_queries_per_sec: 1000\n",
      "  memory_limit_mb: 512\n",
      "  cpu_cores_allocated: 4\n",
      "\n",
      "Rationale: Real-time web application requirement - sub-10ms response time\n",
      "\n",
      "Accuracy Requirements:\n",
      "----------------------------------------------------------------------\n",
      "  target_precision_overall: 95.00%\n",
      "  target_recall_overall: 92.00%\n",
      "  target_f1_overall: 93.00%\n",
      "  target_precision_high_confidence_rules: 98.00%\n",
      "  max_false_positive_rate: 2.00%\n",
      "  max_false_negative_rate: 8.00%\n",
      "\n",
      "Rationale: Balance between security (low FNR) and usability (low FPR)\n",
      "\n",
      "Rule Engine Configuration:\n",
      "----------------------------------------------------------------------\n",
      "  max_rules_active: 100\n",
      "  rule_evaluation_order: Priority-based (severity-weighted)\n",
      "  pattern_matching_engine: Regex with compiled patterns\n",
      "  caching_strategy: LRU cache for repeated queries\n",
      "  logging_level: INFO for production, DEBUG for suspicious\n",
      "\n",
      "================================================================================\n",
      "SECTION 4: DESIRED DETECTION BEHAVIOR\n",
      "================================================================================\n",
      "\n",
      "Detection Behavior Specification:\n",
      "\n",
      "Tautology-Based Injection:\n",
      "  Should Detect: 3 examples\n",
      "  Should NOT Detect: 3 examples\n",
      "  Edge Cases: 3 cases\n",
      "\n",
      "UNION-Based Injection:\n",
      "  Should Detect: 2 examples\n",
      "  Should NOT Detect: 3 examples\n",
      "  Edge Cases: 2 cases\n",
      "\n",
      "Comment-Based Injection:\n",
      "  Should Detect: 2 examples\n",
      "  Should NOT Detect: 3 examples\n",
      "  Edge Cases: 3 cases\n",
      "\n",
      "Stacked Queries Injection:\n",
      "  Should Detect: 2 examples\n",
      "  Should NOT Detect: 3 examples\n",
      "  Edge Cases: 2 cases\n",
      "\n",
      "Time-Based Blind Injection:\n",
      "  Should Detect: 2 examples\n",
      "  Should NOT Detect: 3 examples\n",
      "  Edge Cases: 2 cases\n",
      "\n",
      "Advanced & Evasion Techniques:\n",
      "  Should Detect: 2 examples\n",
      "  Should NOT Detect: 3 examples\n",
      "  Edge Cases: 2 cases\n",
      "\n",
      "================================================================================\n",
      "GENERATING VISUALIZATIONS\n",
      "================================================================================\n"
     ]
    },
    {
     "data": {
      "application/vnd.plotly.v1+json": {
       "config": {
        "displayModeBar": true,
        "displaylogo": false,
        "plotlyServerURL": "https://plot.ly",
        "toImageButtonOptions": {
         "filename": "phase2_day11_attack_taxonomy",
         "format": "png",
         "height": 900,
         "scale": 2,
         "width": 1400
        }
       },
       "data": [
        {
         "marker": {
          "color": [
           "#e74c3c",
           "#f39c12"
          ]
         },
         "text": [
          "2",
          "4"
         ],
         "textposition": "outside",
         "type": "bar",
         "x": [
          "HIGH",
          "CRITICAL"
         ],
         "xaxis": "x",
         "y": [
          2,
          4
         ],
         "yaxis": "y"
        },
        {
         "marker": {
          "color": "#3498db"
         },
         "text": [
          "8",
          "7",
          "8",
          "7",
          "7",
          "8"
         ],
         "textposition": "outside",
         "type": "bar",
         "x": [
          "Tautology-Based",
          "UNION-Based",
          "Comment-Based",
          "Stacked",
          "Time-Based",
          "Advanced"
         ],
         "xaxis": "x2",
         "y": [
          8,
          7,
          8,
          7,
          7,
          8
         ],
         "yaxis": "y2"
        },
        {
         "marker": {
          "color": "#27ae60"
         },
         "text": [
          "6",
          "5",
          "4",
          "7",
          "5",
          "11"
         ],
         "textposition": "outside",
         "type": "bar",
         "x": [
          "Tautology-Based",
          "UNION-Based",
          "Comment-Based",
          "Stacked",
          "Time-Based",
          "Advanced"
         ],
         "xaxis": "x3",
         "y": [
          6,
          5,
          4,
          7,
          5,
          11
         ],
         "yaxis": "y3"
        },
        {
         "marker": {
          "color": "#f39c12"
         },
         "text": [
          "2",
          "2",
          "3",
          "2",
          "2",
          "3"
         ],
         "textposition": "outside",
         "type": "bar",
         "x": [
          "Tautology-Based",
          "UNION-Based",
          "Comment-Based",
          "Stacked",
          "Time-Based",
          "Advanced"
         ],
         "xaxis": "x4",
         "y": [
          2,
          2,
          3,
          2,
          2,
          3
         ],
         "yaxis": "y4"
        }
       ],
       "layout": {
        "annotations": [
         {
          "font": {
           "size": 16
          },
          "showarrow": false,
          "text": "Attack Categories by Severity",
          "x": 0.225,
          "xanchor": "center",
          "xref": "paper",
          "y": 1,
          "yanchor": "bottom",
          "yref": "paper"
         },
         {
          "font": {
           "size": 16
          },
          "showarrow": false,
          "text": "Examples per Category",
          "x": 0.775,
          "xanchor": "center",
          "xref": "paper",
          "y": 1,
          "yanchor": "bottom",
          "yref": "paper"
         },
         {
          "font": {
           "size": 16
          },
          "showarrow": false,
          "text": "Keywords per Category",
          "x": 0.225,
          "xanchor": "center",
          "xref": "paper",
          "y": 0.375,
          "yanchor": "bottom",
          "yref": "paper"
         },
         {
          "font": {
           "size": 16
          },
          "showarrow": false,
          "text": "False Positive Risk Assessment",
          "x": 0.775,
          "xanchor": "center",
          "xref": "paper",
          "y": 0.375,
          "yanchor": "bottom",
          "yref": "paper"
         }
        ],
        "height": 900,
        "showlegend": false,
        "template": {
         "data": {
          "bar": [
           {
            "error_x": {
             "color": "#2a3f5f"
            },
            "error_y": {
             "color": "#2a3f5f"
            },
            "marker": {
             "line": {
              "color": "#E5ECF6",
              "width": 0.5
             },
             "pattern": {
              "fillmode": "overlay",
              "size": 10,
              "solidity": 0.2
             }
            },
            "type": "bar"
           }
          ],
          "barpolar": [
           {
            "marker": {
             "line": {
              "color": "#E5ECF6",
              "width": 0.5
             },
             "pattern": {
              "fillmode": "overlay",
              "size": 10,
              "solidity": 0.2
             }
            },
            "type": "barpolar"
           }
          ],
          "carpet": [
           {
            "aaxis": {
             "endlinecolor": "#2a3f5f",
             "gridcolor": "white",
             "linecolor": "white",
             "minorgridcolor": "white",
             "startlinecolor": "#2a3f5f"
            },
            "baxis": {
             "endlinecolor": "#2a3f5f",
             "gridcolor": "white",
             "linecolor": "white",
             "minorgridcolor": "white",
             "startlinecolor": "#2a3f5f"
            },
            "type": "carpet"
           }
          ],
          "choropleth": [
           {
            "colorbar": {
             "outlinewidth": 0,
             "ticks": ""
            },
            "type": "choropleth"
           }
          ],
          "contour": [
           {
            "colorbar": {
             "outlinewidth": 0,
             "ticks": ""
            },
            "colorscale": [
             [
              0,
              "#0d0887"
             ],
             [
              0.1111111111111111,
              "#46039f"
             ],
             [
              0.2222222222222222,
              "#7201a8"
             ],
             [
              0.3333333333333333,
              "#9c179e"
             ],
             [
              0.4444444444444444,
              "#bd3786"
             ],
             [
              0.5555555555555556,
              "#d8576b"
             ],
             [
              0.6666666666666666,
              "#ed7953"
             ],
             [
              0.7777777777777778,
              "#fb9f3a"
             ],
             [
              0.8888888888888888,
              "#fdca26"
             ],
             [
              1,
              "#f0f921"
             ]
            ],
            "type": "contour"
           }
          ],
          "contourcarpet": [
           {
            "colorbar": {
             "outlinewidth": 0,
             "ticks": ""
            },
            "type": "contourcarpet"
           }
          ],
          "heatmap": [
           {
            "colorbar": {
             "outlinewidth": 0,
             "ticks": ""
            },
            "colorscale": [
             [
              0,
              "#0d0887"
             ],
             [
              0.1111111111111111,
              "#46039f"
             ],
             [
              0.2222222222222222,
              "#7201a8"
             ],
             [
              0.3333333333333333,
              "#9c179e"
             ],
             [
              0.4444444444444444,
              "#bd3786"
             ],
             [
              0.5555555555555556,
              "#d8576b"
             ],
             [
              0.6666666666666666,
              "#ed7953"
             ],
             [
              0.7777777777777778,
              "#fb9f3a"
             ],
             [
              0.8888888888888888,
              "#fdca26"
             ],
             [
              1,
              "#f0f921"
             ]
            ],
            "type": "heatmap"
           }
          ],
          "heatmapgl": [
           {
            "colorbar": {
             "outlinewidth": 0,
             "ticks": ""
            },
            "colorscale": [
             [
              0,
              "#0d0887"
             ],
             [
              0.1111111111111111,
              "#46039f"
             ],
             [
              0.2222222222222222,
              "#7201a8"
             ],
             [
              0.3333333333333333,
              "#9c179e"
             ],
             [
              0.4444444444444444,
              "#bd3786"
             ],
             [
              0.5555555555555556,
              "#d8576b"
             ],
             [
              0.6666666666666666,
              "#ed7953"
             ],
             [
              0.7777777777777778,
              "#fb9f3a"
             ],
             [
              0.8888888888888888,
              "#fdca26"
             ],
             [
              1,
              "#f0f921"
             ]
            ],
            "type": "heatmapgl"
           }
          ],
          "histogram": [
           {
            "marker": {
             "pattern": {
              "fillmode": "overlay",
              "size": 10,
              "solidity": 0.2
             }
            },
            "type": "histogram"
           }
          ],
          "histogram2d": [
           {
            "colorbar": {
             "outlinewidth": 0,
             "ticks": ""
            },
            "colorscale": [
             [
              0,
              "#0d0887"
             ],
             [
              0.1111111111111111,
              "#46039f"
             ],
             [
              0.2222222222222222,
              "#7201a8"
             ],
             [
              0.3333333333333333,
              "#9c179e"
             ],
             [
              0.4444444444444444,
              "#bd3786"
             ],
             [
              0.5555555555555556,
              "#d8576b"
             ],
             [
              0.6666666666666666,
              "#ed7953"
             ],
             [
              0.7777777777777778,
              "#fb9f3a"
             ],
             [
              0.8888888888888888,
              "#fdca26"
             ],
             [
              1,
              "#f0f921"
             ]
            ],
            "type": "histogram2d"
           }
          ],
          "histogram2dcontour": [
           {
            "colorbar": {
             "outlinewidth": 0,
             "ticks": ""
            },
            "colorscale": [
             [
              0,
              "#0d0887"
             ],
             [
              0.1111111111111111,
              "#46039f"
             ],
             [
              0.2222222222222222,
              "#7201a8"
             ],
             [
              0.3333333333333333,
              "#9c179e"
             ],
             [
              0.4444444444444444,
              "#bd3786"
             ],
             [
              0.5555555555555556,
              "#d8576b"
             ],
             [
              0.6666666666666666,
              "#ed7953"
             ],
             [
              0.7777777777777778,
              "#fb9f3a"
             ],
             [
              0.8888888888888888,
              "#fdca26"
             ],
             [
              1,
              "#f0f921"
             ]
            ],
            "type": "histogram2dcontour"
           }
          ],
          "mesh3d": [
           {
            "colorbar": {
             "outlinewidth": 0,
             "ticks": ""
            },
            "type": "mesh3d"
           }
          ],
          "parcoords": [
           {
            "line": {
             "colorbar": {
              "outlinewidth": 0,
              "ticks": ""
             }
            },
            "type": "parcoords"
           }
          ],
          "pie": [
           {
            "automargin": true,
            "type": "pie"
           }
          ],
          "scatter": [
           {
            "fillpattern": {
             "fillmode": "overlay",
             "size": 10,
             "solidity": 0.2
            },
            "type": "scatter"
           }
          ],
          "scatter3d": [
           {
            "line": {
             "colorbar": {
              "outlinewidth": 0,
              "ticks": ""
             }
            },
            "marker": {
             "colorbar": {
              "outlinewidth": 0,
              "ticks": ""
             }
            },
            "type": "scatter3d"
           }
          ],
          "scattercarpet": [
           {
            "marker": {
             "colorbar": {
              "outlinewidth": 0,
              "ticks": ""
             }
            },
            "type": "scattercarpet"
           }
          ],
          "scattergeo": [
           {
            "marker": {
             "colorbar": {
              "outlinewidth": 0,
              "ticks": ""
             }
            },
            "type": "scattergeo"
           }
          ],
          "scattergl": [
           {
            "marker": {
             "colorbar": {
              "outlinewidth": 0,
              "ticks": ""
             }
            },
            "type": "scattergl"
           }
          ],
          "scattermapbox": [
           {
            "marker": {
             "colorbar": {
              "outlinewidth": 0,
              "ticks": ""
             }
            },
            "type": "scattermapbox"
           }
          ],
          "scatterpolar": [
           {
            "marker": {
             "colorbar": {
              "outlinewidth": 0,
              "ticks": ""
             }
            },
            "type": "scatterpolar"
           }
          ],
          "scatterpolargl": [
           {
            "marker": {
             "colorbar": {
              "outlinewidth": 0,
              "ticks": ""
             }
            },
            "type": "scatterpolargl"
           }
          ],
          "scatterternary": [
           {
            "marker": {
             "colorbar": {
              "outlinewidth": 0,
              "ticks": ""
             }
            },
            "type": "scatterternary"
           }
          ],
          "surface": [
           {
            "colorbar": {
             "outlinewidth": 0,
             "ticks": ""
            },
            "colorscale": [
             [
              0,
              "#0d0887"
             ],
             [
              0.1111111111111111,
              "#46039f"
             ],
             [
              0.2222222222222222,
              "#7201a8"
             ],
             [
              0.3333333333333333,
              "#9c179e"
             ],
             [
              0.4444444444444444,
              "#bd3786"
             ],
             [
              0.5555555555555556,
              "#d8576b"
             ],
             [
              0.6666666666666666,
              "#ed7953"
             ],
             [
              0.7777777777777778,
              "#fb9f3a"
             ],
             [
              0.8888888888888888,
              "#fdca26"
             ],
             [
              1,
              "#f0f921"
             ]
            ],
            "type": "surface"
           }
          ],
          "table": [
           {
            "cells": {
             "fill": {
              "color": "#EBF0F8"
             },
             "line": {
              "color": "white"
             }
            },
            "header": {
             "fill": {
              "color": "#C8D4E3"
             },
             "line": {
              "color": "white"
             }
            },
            "type": "table"
           }
          ]
         },
         "layout": {
          "annotationdefaults": {
           "arrowcolor": "#2a3f5f",
           "arrowhead": 0,
           "arrowwidth": 1
          },
          "autotypenumbers": "strict",
          "coloraxis": {
           "colorbar": {
            "outlinewidth": 0,
            "ticks": ""
           }
          },
          "colorscale": {
           "diverging": [
            [
             0,
             "#8e0152"
            ],
            [
             0.1,
             "#c51b7d"
            ],
            [
             0.2,
             "#de77ae"
            ],
            [
             0.3,
             "#f1b6da"
            ],
            [
             0.4,
             "#fde0ef"
            ],
            [
             0.5,
             "#f7f7f7"
            ],
            [
             0.6,
             "#e6f5d0"
            ],
            [
             0.7,
             "#b8e186"
            ],
            [
             0.8,
             "#7fbc41"
            ],
            [
             0.9,
             "#4d9221"
            ],
            [
             1,
             "#276419"
            ]
           ],
           "sequential": [
            [
             0,
             "#0d0887"
            ],
            [
             0.1111111111111111,
             "#46039f"
            ],
            [
             0.2222222222222222,
             "#7201a8"
            ],
            [
             0.3333333333333333,
             "#9c179e"
            ],
            [
             0.4444444444444444,
             "#bd3786"
            ],
            [
             0.5555555555555556,
             "#d8576b"
            ],
            [
             0.6666666666666666,
             "#ed7953"
            ],
            [
             0.7777777777777778,
             "#fb9f3a"
            ],
            [
             0.8888888888888888,
             "#fdca26"
            ],
            [
             1,
             "#f0f921"
            ]
           ],
           "sequentialminus": [
            [
             0,
             "#0d0887"
            ],
            [
             0.1111111111111111,
             "#46039f"
            ],
            [
             0.2222222222222222,
             "#7201a8"
            ],
            [
             0.3333333333333333,
             "#9c179e"
            ],
            [
             0.4444444444444444,
             "#bd3786"
            ],
            [
             0.5555555555555556,
             "#d8576b"
            ],
            [
             0.6666666666666666,
             "#ed7953"
            ],
            [
             0.7777777777777778,
             "#fb9f3a"
            ],
            [
             0.8888888888888888,
             "#fdca26"
            ],
            [
             1,
             "#f0f921"
            ]
           ]
          },
          "colorway": [
           "#636efa",
           "#EF553B",
           "#00cc96",
           "#ab63fa",
           "#FFA15A",
           "#19d3f3",
           "#FF6692",
           "#B6E880",
           "#FF97FF",
           "#FECB52"
          ],
          "font": {
           "color": "#2a3f5f"
          },
          "geo": {
           "bgcolor": "white",
           "lakecolor": "white",
           "landcolor": "#E5ECF6",
           "showlakes": true,
           "showland": true,
           "subunitcolor": "white"
          },
          "hoverlabel": {
           "align": "left"
          },
          "hovermode": "closest",
          "mapbox": {
           "style": "light"
          },
          "paper_bgcolor": "white",
          "plot_bgcolor": "#E5ECF6",
          "polar": {
           "angularaxis": {
            "gridcolor": "white",
            "linecolor": "white",
            "ticks": ""
           },
           "bgcolor": "#E5ECF6",
           "radialaxis": {
            "gridcolor": "white",
            "linecolor": "white",
            "ticks": ""
           }
          },
          "scene": {
           "xaxis": {
            "backgroundcolor": "#E5ECF6",
            "gridcolor": "white",
            "gridwidth": 2,
            "linecolor": "white",
            "showbackground": true,
            "ticks": "",
            "zerolinecolor": "white"
           },
           "yaxis": {
            "backgroundcolor": "#E5ECF6",
            "gridcolor": "white",
            "gridwidth": 2,
            "linecolor": "white",
            "showbackground": true,
            "ticks": "",
            "zerolinecolor": "white"
           },
           "zaxis": {
            "backgroundcolor": "#E5ECF6",
            "gridcolor": "white",
            "gridwidth": 2,
            "linecolor": "white",
            "showbackground": true,
            "ticks": "",
            "zerolinecolor": "white"
           }
          },
          "shapedefaults": {
           "line": {
            "color": "#2a3f5f"
           }
          },
          "ternary": {
           "aaxis": {
            "gridcolor": "white",
            "linecolor": "white",
            "ticks": ""
           },
           "baxis": {
            "gridcolor": "white",
            "linecolor": "white",
            "ticks": ""
           },
           "bgcolor": "#E5ECF6",
           "caxis": {
            "gridcolor": "white",
            "linecolor": "white",
            "ticks": ""
           }
          },
          "title": {
           "x": 0.05
          },
          "xaxis": {
           "automargin": true,
           "gridcolor": "white",
           "linecolor": "white",
           "ticks": "",
           "title": {
            "standoff": 15
           },
           "zerolinecolor": "white",
           "zerolinewidth": 2
          },
          "yaxis": {
           "automargin": true,
           "gridcolor": "white",
           "linecolor": "white",
           "ticks": "",
           "title": {
            "standoff": 15
           },
           "zerolinecolor": "white",
           "zerolinewidth": 2
          }
         }
        },
        "title": {
         "text": "Phase 2 Day 11: Attack Taxonomy Overview",
         "x": 0.5
        },
        "xaxis": {
         "anchor": "y",
         "domain": [
          0,
          0.45
         ],
         "title": {
          "text": "Severity"
         }
        },
        "xaxis2": {
         "anchor": "y2",
         "domain": [
          0.55,
          1
         ],
         "tickangle": 45,
         "title": {
          "text": "Category"
         }
        },
        "xaxis3": {
         "anchor": "y3",
         "domain": [
          0,
          0.45
         ],
         "tickangle": 45,
         "title": {
          "text": "Category"
         }
        },
        "xaxis4": {
         "anchor": "y4",
         "domain": [
          0.55,
          1
         ],
         "tickangle": 45,
         "title": {
          "text": "Category"
         }
        },
        "yaxis": {
         "anchor": "x",
         "domain": [
          0.625,
          1
         ],
         "title": {
          "text": "Count"
         }
        },
        "yaxis2": {
         "anchor": "x2",
         "domain": [
          0.625,
          1
         ],
         "title": {
          "text": "Example Count"
         }
        },
        "yaxis3": {
         "anchor": "x3",
         "domain": [
          0,
          0.375
         ],
         "title": {
          "text": "Keyword Count"
         }
        },
        "yaxis4": {
         "anchor": "x4",
         "domain": [
          0,
          0.375
         ],
         "title": {
          "text": "FP Risk Factors"
         }
        }
       }
      }
     },
     "metadata": {},
     "output_type": "display_data"
    },
    {
     "name": "stdout",
     "output_type": "stream",
     "text": [
      "\n",
      "Visualizations generated successfully\n",
      "\n",
      "================================================================================\n",
      "SAVING ATTACK TAXONOMY DOCUMENTATION\n",
      "================================================================================\n",
      "\n",
      "Attack taxonomy saved: ../reports/phase2/attack_taxonomy.json\n",
      "Human-readable taxonomy saved: ../reports/phase2/attack_taxonomy.md\n",
      "\n",
      "================================================================================\n",
      "DAY 11 COMPLETED - ATTACK TAXONOMY DEFINED\n",
      "================================================================================\n",
      "\n",
      "Deliverables Created:\n",
      "  1. attack_taxonomy.json - Complete taxonomy with all details\n",
      "  2. attack_taxonomy.md - Human-readable documentation\n",
      "  3. Interactive visualizations - Attack overview charts\n",
      "\n",
      "Key Statistics:\n",
      "  Total attack categories: 6\n",
      "  Total example payloads: 45\n",
      "  Total keywords tracked: 38\n",
      "  Severity levels: 2 (HIGH, CRITICAL)\n",
      "\n",
      "Operational Targets Set:\n",
      "  Max latency: 10ms per query\n",
      "  Target F1-score: ≥ 0.93\n",
      "  Max FP rate: ≤ 0.02\n",
      "\n",
      "Next: Day 12 (Rule design and pattern engineering)\n"
     ]
    }
   ],
   "source": [
    "# Phase 2 - Rule-Based SQL Injection Detection Engine\n",
    "# Day 11: Requirements & Attack Taxonomy\n",
    "# Notebook 3: Rule Engine Development\n",
    "\n",
    "import pandas as pd\n",
    "import numpy as np\n",
    "import json\n",
    "import plotly.graph_objects as go\n",
    "from plotly.subplots import make_subplots\n",
    "import plotly.express as px\n",
    "from datetime import datetime\n",
    "import os\n",
    "\n",
    "print(\"=\" * 80)\n",
    "print(\"PHASE 2: RULE-BASED SQL INJECTION DETECTION ENGINE\")\n",
    "print(\"=\" * 80)\n",
    "print(\"\\nDay 11: Requirements & Attack Taxonomy Definition\")\n",
    "print(\"Objective: Define attack categories, examples, and operational constraints\")\n",
    "\n",
    "# Create directories for Phase 2 outputs\n",
    "os.makedirs('../reports/phase2', exist_ok=True)\n",
    "os.makedirs('../rules', exist_ok=True)\n",
    "os.makedirs('../test_sets', exist_ok=True)\n",
    "\n",
    "print(\"\\n\" + \"=\" * 80)\n",
    "print(\"SECTION 1: ATTACK TAXONOMY DEFINITION\")\n",
    "print(\"=\" * 80)\n",
    "\n",
    "print(\"\\nDefining 6 primary SQL injection attack categories...\")\n",
    "\n",
    "# Define comprehensive attack taxonomy\n",
    "attack_taxonomy = {\n",
    "    \"1_tautology\": {\n",
    "        \"category_id\": \"TAU\",\n",
    "        \"name\": \"Tautology-Based Injection\",\n",
    "        \"description\": \"Exploits always-true conditions to bypass authentication or retrieve all records\",\n",
    "        \"technical_details\": \"Injects conditions like 'OR 1=1', 'OR 'a'='a' that always evaluate to TRUE\",\n",
    "        \"severity\": \"HIGH\",\n",
    "        \"typical_targets\": [\"Login forms\", \"Search filters\", \"WHERE clauses\"],\n",
    "        \"detection_strategy\": \"Pattern matching for tautology expressions\",\n",
    "        \"examples\": [\n",
    "            \"' OR '1'='1\",\n",
    "            \"' OR 1=1--\",\n",
    "            \"admin' OR '1'='1'--\",\n",
    "            \"' OR 'x'='x\",\n",
    "            \"1' OR '1'='1' #\",\n",
    "            \"' OR 'a'='a'--\",\n",
    "            \"') OR ('1'='1\",\n",
    "            \"1' OR 1=1 LIMIT 1--\"\n",
    "        ],\n",
    "        \"keywords\": [\"OR\", \"AND\", \"=\", \"1=1\", \"true\", \"false\"],\n",
    "        \"false_positive_risks\": [\n",
    "            \"Legitimate queries with OR conditions\",\n",
    "            \"Mathematical expressions in data\"\n",
    "        ]\n",
    "    },\n",
    "    \"2_union\": {\n",
    "        \"category_id\": \"UNI\",\n",
    "        \"name\": \"UNION-Based Injection\",\n",
    "        \"description\": \"Uses UNION operator to combine malicious query with legitimate one\",\n",
    "        \"technical_details\": \"Appends UNION SELECT to retrieve data from other tables\",\n",
    "        \"severity\": \"CRITICAL\",\n",
    "        \"typical_targets\": [\"Data retrieval endpoints\", \"SELECT statements\", \"API queries\"],\n",
    "        \"detection_strategy\": \"Detect UNION keyword with SELECT/FROM patterns\",\n",
    "        \"examples\": [\n",
    "            \"' UNION SELECT NULL, NULL--\",\n",
    "            \"' UNION ALL SELECT username, password FROM users--\",\n",
    "            \"1' UNION SELECT table_name FROM information_schema.tables--\",\n",
    "            \"' UNION SELECT 1,2,3,4,5--\",\n",
    "            \"') UNION SELECT NULL,NULL,NULL#\",\n",
    "            \"' UNION SELECT @@version--\",\n",
    "            \"' UNION SELECT NULL, CONCAT(username, ':', password) FROM users--\"\n",
    "        ],\n",
    "        \"keywords\": [\"UNION\", \"UNION ALL\", \"SELECT\", \"FROM\", \"NULL\"],\n",
    "        \"false_positive_risks\": [\n",
    "            \"Legitimate complex queries using UNION\",\n",
    "            \"Stored procedures with UNION\"\n",
    "        ]\n",
    "    },\n",
    "    \"3_comment\": {\n",
    "        \"category_id\": \"CMT\",\n",
    "        \"name\": \"Comment-Based Injection\",\n",
    "        \"description\": \"Uses SQL comments to truncate queries and bypass validation\",\n",
    "        \"technical_details\": \"Injects -- or /* */ or # to comment out remaining query parts\",\n",
    "        \"severity\": \"HIGH\",\n",
    "        \"typical_targets\": [\"Login forms\", \"Input validation\", \"Query string parameters\"],\n",
    "        \"detection_strategy\": \"Detect SQL comment sequences\",\n",
    "        \"examples\": [\n",
    "            \"admin'--\",\n",
    "            \"' OR 1=1--\",\n",
    "            \"'; DROP TABLE users--\",\n",
    "            \"admin'/*\",\n",
    "            \"' OR '1'='1'/*\",\n",
    "            \"admin'#\",\n",
    "            \"' OR 1=1#\",\n",
    "            \"'; EXEC xp_cmdshell('dir')--\"\n",
    "        ],\n",
    "        \"keywords\": [\"--\", \"/*\", \"*/\", \"#\"],\n",
    "        \"false_positive_risks\": [\n",
    "            \"URLs with -- in parameters\",\n",
    "            \"Email addresses or data containing #\",\n",
    "            \"Mathematical operations (e.g., 5--3)\"\n",
    "        ]\n",
    "    },\n",
    "    \"4_stacked\": {\n",
    "        \"category_id\": \"STK\",\n",
    "        \"name\": \"Stacked Queries Injection\",\n",
    "        \"description\": \"Executes multiple SQL statements in a single query using semicolons\",\n",
    "        \"technical_details\": \"Uses ; to separate and execute additional malicious commands\",\n",
    "        \"severity\": \"CRITICAL\",\n",
    "        \"typical_targets\": [\"API endpoints\", \"Batch processing\", \"Administrative interfaces\"],\n",
    "        \"detection_strategy\": \"Detect semicolons followed by SQL keywords\",\n",
    "        \"examples\": [\n",
    "            \"'; DROP TABLE users--\",\n",
    "            \"'; UPDATE users SET password='hacked'--\",\n",
    "            \"'; INSERT INTO logs VALUES ('breach')--\",\n",
    "            \"'; EXEC sp_executesql N'malicious_code'--\",\n",
    "            \"1'; DELETE FROM products WHERE 1=1--\",\n",
    "            \"'; CREATE TABLE backdoor (id INT)--\",\n",
    "            \"'; GRANT ALL PRIVILEGES ON *.* TO 'attacker'@'%'--\"\n",
    "        ],\n",
    "        \"keywords\": [\";\", \"DROP\", \"DELETE\", \"UPDATE\", \"INSERT\", \"EXEC\", \"CREATE\"],\n",
    "        \"false_positive_risks\": [\n",
    "            \"Stored procedures with multiple statements\",\n",
    "            \"Legitimate batch operations\"\n",
    "        ]\n",
    "    },\n",
    "    \"5_time_blind\": {\n",
    "        \"category_id\": \"TMB\",\n",
    "        \"name\": \"Time-Based Blind Injection\",\n",
    "        \"description\": \"Infers information based on response time delays\",\n",
    "        \"technical_details\": \"Uses SLEEP(), WAITFOR, BENCHMARK() to cause delays\",\n",
    "        \"severity\": \"CRITICAL\",\n",
    "        \"typical_targets\": [\"Boolean-based queries\", \"Error-suppressed applications\"],\n",
    "        \"detection_strategy\": \"Detect time-delay functions\",\n",
    "        \"examples\": [\n",
    "            \"' AND SLEEP(5)--\",\n",
    "            \"'; WAITFOR DELAY '00:00:05'--\",\n",
    "            \"' AND IF(1=1, SLEEP(5), 0)--\",\n",
    "            \"' AND BENCHMARK(5000000,MD5('A'))--\",\n",
    "            \"' OR IF(SUBSTRING(password,1,1)='a', SLEEP(5), 0)--\",\n",
    "            \"'; SELECT pg_sleep(5)--\",\n",
    "            \"' AND (SELECT * FROM (SELECT(SLEEP(5)))xyz)--\"\n",
    "        ],\n",
    "        \"keywords\": [\"SLEEP\", \"WAITFOR\", \"DELAY\", \"BENCHMARK\", \"pg_sleep\"],\n",
    "        \"false_positive_risks\": [\n",
    "            \"Legitimate performance testing queries\",\n",
    "            \"Database maintenance scripts\"\n",
    "        ]\n",
    "    },\n",
    "    \"6_advanced\": {\n",
    "        \"category_id\": \"ADV\",\n",
    "        \"name\": \"Advanced & Evasion Techniques\",\n",
    "        \"description\": \"Complex attacks using encoding, obfuscation, or stored procedures\",\n",
    "        \"technical_details\": \"Hex encoding, CHAR(), CONCAT(), stored proc abuse, XML/JSON injection\",\n",
    "        \"severity\": \"CRITICAL\",\n",
    "        \"typical_targets\": [\"API endpoints\", \"Complex applications\", \"Enterprise systems\"],\n",
    "        \"detection_strategy\": \"Detect encoding patterns, function chaining, privilege escalation\",\n",
    "        \"examples\": [\n",
    "            \"0x61646d696e\",  # hex for 'admin'\n",
    "            \"CHAR(97)+CHAR(100)+CHAR(109)+CHAR(105)+CHAR(110)\",  # 'admin'\n",
    "            \"'; EXEC xp_cmdshell('net user')--\",\n",
    "            \"'; EXEC sp_addrolemember 'db_owner', 'attacker'--\",\n",
    "            \"%27%20OR%201=1--\",  # URL encoded\n",
    "            \"LOAD_FILE('/etc/passwd')\",\n",
    "            \"INTO OUTFILE '/var/www/shell.php'\",\n",
    "            \"EXTRACTVALUE(1, CONCAT(0x5c, (SELECT @@version)))\"\n",
    "        ],\n",
    "        \"keywords\": [\"0x\", \"CHAR\", \"CONCAT\", \"EXEC\", \"xp_\", \"sp_\", \"LOAD_FILE\", \n",
    "                     \"OUTFILE\", \"EXTRACTVALUE\", \"%27\", \"%20\"],\n",
    "        \"false_positive_risks\": [\n",
    "            \"Legitimate hex values in data\",\n",
    "            \"URL-encoded legitimate requests\",\n",
    "            \"System administration queries\"\n",
    "        ]\n",
    "    }\n",
    "}\n",
    "\n",
    "# Print taxonomy summary\n",
    "print(\"\\nAttack Categories Defined: 6\")\n",
    "print(\"-\" * 70)\n",
    "\n",
    "for key, category in attack_taxonomy.items():\n",
    "    print(f\"\\n{category['category_id']}: {category['name']}\")\n",
    "    print(f\"   Severity: {category['severity']}\")\n",
    "    print(f\"   Description: {category['description']}\")\n",
    "    print(f\"   Example patterns: {len(category['examples'])}\")\n",
    "    print(f\"   Keywords tracked: {len(category['keywords'])}\")\n",
    "\n",
    "print(\"\\n\" + \"=\" * 80)\n",
    "print(\"SECTION 2: DETAILED ATTACK EXAMPLES WITH BEHAVIOR\")\n",
    "print(\"=\" * 80)\n",
    "\n",
    "# Create detailed examples table\n",
    "examples_data = []\n",
    "for cat_key, category in attack_taxonomy.items():\n",
    "    for i, example in enumerate(category['examples'][:3], 1):  # Top 3 examples\n",
    "        examples_data.append({\n",
    "            'Category': category['category_id'],\n",
    "            'Attack Type': category['name'],\n",
    "            'Example': example[:60] + \"...\" if len(example) > 60 else example,\n",
    "            'Severity': category['severity'],\n",
    "            'Target': category['typical_targets'][0] if category['typical_targets'] else \"N/A\"\n",
    "        })\n",
    "\n",
    "examples_df = pd.DataFrame(examples_data)\n",
    "\n",
    "print(\"\\nSample Attack Examples by Category:\")\n",
    "print(\"=\" * 100)\n",
    "print(examples_df.to_string(index=False))\n",
    "\n",
    "print(\"\\n\" + \"=\" * 80)\n",
    "print(\"SECTION 3: OPERATIONAL CONSTRAINTS & REQUIREMENTS\")\n",
    "print(\"=\" * 80)\n",
    "\n",
    "operational_requirements = {\n",
    "    \"performance\": {\n",
    "        \"max_latency_per_query_ms\": 10,\n",
    "        \"target_throughput_queries_per_sec\": 1000,\n",
    "        \"memory_limit_mb\": 512,\n",
    "        \"cpu_cores_allocated\": 4,\n",
    "        \"rationale\": \"Real-time web application requirement - sub-10ms response time\"\n",
    "    },\n",
    "    \"accuracy\": {\n",
    "        \"target_precision_overall\": 0.95,\n",
    "        \"target_recall_overall\": 0.92,\n",
    "        \"target_f1_overall\": 0.93,\n",
    "        \"target_precision_high_confidence_rules\": 0.98,\n",
    "        \"max_false_positive_rate\": 0.02,\n",
    "        \"max_false_negative_rate\": 0.08,\n",
    "        \"rationale\": \"Balance between security (low FNR) and usability (low FPR)\"\n",
    "    },\n",
    "    \"operational\": {\n",
    "        \"rule_update_frequency\": \"Weekly\",\n",
    "        \"monitoring_metrics\": [\n",
    "            \"False positive rate per category\",\n",
    "            \"False negative rate per category\",\n",
    "            \"Query processing latency (p50, p95, p99)\",\n",
    "            \"Throughput (queries/sec)\",\n",
    "            \"Rule hit rate distribution\"\n",
    "        ],\n",
    "        \"alerting_thresholds\": {\n",
    "            \"latency_p99_ms\": 50,\n",
    "            \"false_positive_rate\": 0.05,\n",
    "            \"throughput_drop_percent\": 20\n",
    "        },\n",
    "        \"deployment_strategy\": \"Blue-green with 5% canary\",\n",
    "        \"rollback_criteria\": \"FPR > 5% or latency > 50ms\"\n",
    "    },\n",
    "    \"rule_engine_specific\": {\n",
    "        \"max_rules_active\": 100,\n",
    "        \"rule_evaluation_order\": \"Priority-based (severity-weighted)\",\n",
    "        \"pattern_matching_engine\": \"Regex with compiled patterns\",\n",
    "        \"caching_strategy\": \"LRU cache for repeated queries\",\n",
    "        \"logging_level\": \"INFO for production, DEBUG for suspicious\"\n",
    "    }\n",
    "}\n",
    "\n",
    "print(\"\\nPerformance Requirements:\")\n",
    "print(\"-\" * 70)\n",
    "for key, value in operational_requirements[\"performance\"].items():\n",
    "    if key != \"rationale\":\n",
    "        print(f\"  {key}: {value}\")\n",
    "print(f\"\\nRationale: {operational_requirements['performance']['rationale']}\")\n",
    "\n",
    "print(\"\\nAccuracy Requirements:\")\n",
    "print(\"-\" * 70)\n",
    "for key, value in operational_requirements[\"accuracy\"].items():\n",
    "    if key != \"rationale\" and isinstance(value, (int, float)):\n",
    "        print(f\"  {key}: {value:.2%}\" if value < 1 else f\"  {key}: {value}\")\n",
    "print(f\"\\nRationale: {operational_requirements['accuracy']['rationale']}\")\n",
    "\n",
    "print(\"\\nRule Engine Configuration:\")\n",
    "print(\"-\" * 70)\n",
    "for key, value in operational_requirements[\"rule_engine_specific\"].items():\n",
    "    print(f\"  {key}: {value}\")\n",
    "\n",
    "print(\"\\n\" + \"=\" * 80)\n",
    "print(\"SECTION 4: DESIRED DETECTION BEHAVIOR\")\n",
    "print(\"=\" * 80)\n",
    "\n",
    "detection_behavior = {\n",
    "    \"1_tautology\": {\n",
    "        \"should_detect\": [\n",
    "            \"' OR '1'='1\",\n",
    "            \"admin' OR 1=1--\",\n",
    "            \"' OR 'a'='a\"\n",
    "        ],\n",
    "        \"should_not_detect\": [\n",
    "            \"SELECT * FROM products WHERE category='electronics' OR category='books'\",\n",
    "            \"UPDATE settings SET value=1 WHERE id=1\",\n",
    "            \"Legitimate text: 'The year 1=1999 was significant'\"\n",
    "        ],\n",
    "        \"edge_cases\": [\n",
    "            \"String comparison in data: 'password reset token: a=a'\",\n",
    "            \"Mathematical expression: quantity=1+1\",\n",
    "            \"Boolean flag: is_active OR is_pending\"\n",
    "        ]\n",
    "    },\n",
    "    \"2_union\": {\n",
    "        \"should_detect\": [\n",
    "            \"' UNION SELECT NULL--\",\n",
    "            \"1' UNION ALL SELECT username, password FROM users--\"\n",
    "        ],\n",
    "        \"should_not_detect\": [\n",
    "            \"Documentation: 'SQL UNION operator combines results'\",\n",
    "            \"Column name: union_date\",\n",
    "            \"Company name: 'Union Bank'\"\n",
    "        ],\n",
    "        \"edge_cases\": [\n",
    "            \"Text containing 'union': 'The union of sets A and B'\",\n",
    "            \"Legitimate multi-query with UNION in stored procedure\"\n",
    "        ]\n",
    "    },\n",
    "    \"3_comment\": {\n",
    "        \"should_detect\": [\n",
    "            \"admin'--\",\n",
    "            \"'; DROP TABLE users--\"\n",
    "        ],\n",
    "        \"should_not_detect\": [\n",
    "            \"URL: http://example.com/page--old\",\n",
    "            \"Email: user--test@example.com\",\n",
    "            \"Markdown: Lists use -- for bullets\"\n",
    "        ],\n",
    "        \"edge_cases\": [\n",
    "            \"Double dash in data: 'Model X--2024'\",\n",
    "            \"CSS comments in web content\",\n",
    "            \"Mathematical: 5--3 (subtraction)\"\n",
    "        ]\n",
    "    },\n",
    "    \"4_stacked\": {\n",
    "        \"should_detect\": [\n",
    "            \"'; DROP TABLE users--\",\n",
    "            \"1'; DELETE FROM products--\"\n",
    "        ],\n",
    "        \"should_not_detect\": [\n",
    "            \"Semicolon in text: 'End of sentence; start of next'\",\n",
    "            \"JSON data: {\\\"key\\\": \\\"value\\\"; \\\"key2\\\": \\\"value2\\\"}\",\n",
    "            \"CSS: body { margin: 0; padding: 0; }\"\n",
    "        ],\n",
    "        \"edge_cases\": [\n",
    "            \"Multiple semicolons in legitimate data\",\n",
    "            \"Programming code samples in comments\"\n",
    "        ]\n",
    "    },\n",
    "    \"5_time_blind\": {\n",
    "        \"should_detect\": [\n",
    "            \"' AND SLEEP(5)--\",\n",
    "            \"'; WAITFOR DELAY '00:00:05'--\"\n",
    "        ],\n",
    "        \"should_not_detect\": [\n",
    "            \"Documentation: 'Use SLEEP function for delays'\",\n",
    "            \"Error message: 'Connection timeout - wait for retry'\",\n",
    "            \"Text: 'I will benchmark the performance'\"\n",
    "        ],\n",
    "        \"edge_cases\": [\n",
    "            \"Function name in comments\",\n",
    "            \"Variable name: sleep_duration\"\n",
    "        ]\n",
    "    },\n",
    "    \"6_advanced\": {\n",
    "        \"should_detect\": [\n",
    "            \"0x61646d696e\",\n",
    "            \"CHAR(97)+CHAR(100)+CHAR(109)\"\n",
    "        ],\n",
    "        \"should_not_detect\": [\n",
    "            \"Legitimate hex color: #FF00AB or 0xFF00AB\",\n",
    "            \"MAC address: 0x1A:2B:3C:4D\",\n",
    "            \"Documentation: 'CHAR function converts ASCII'\"\n",
    "        ],\n",
    "        \"edge_cases\": [\n",
    "            \"Hex values in legitimate data\",\n",
    "            \"URL-encoded legitimate requests\"\n",
    "        ]\n",
    "    }\n",
    "}\n",
    "\n",
    "print(\"\\nDetection Behavior Specification:\")\n",
    "for cat_key, behavior in detection_behavior.items():\n",
    "    category_name = attack_taxonomy[cat_key]['name']\n",
    "    print(f\"\\n{category_name}:\")\n",
    "    print(f\"  Should Detect: {len(behavior['should_detect'])} examples\")\n",
    "    print(f\"  Should NOT Detect: {len(behavior['should_not_detect'])} examples\")\n",
    "    print(f\"  Edge Cases: {len(behavior['edge_cases'])} cases\")\n",
    "\n",
    "print(\"\\n\" + \"=\" * 80)\n",
    "print(\"GENERATING VISUALIZATIONS\")\n",
    "print(\"=\" * 80)\n",
    "\n",
    "# Visualization 1: Attack Category Distribution\n",
    "fig = make_subplots(\n",
    "    rows=2, cols=2,\n",
    "    subplot_titles=(\n",
    "        'Attack Categories by Severity',\n",
    "        'Examples per Category',\n",
    "        'Keywords per Category',\n",
    "        'False Positive Risk Assessment'\n",
    "    ),\n",
    "    specs=[\n",
    "        [{\"type\": \"bar\"}, {\"type\": \"bar\"}],\n",
    "        [{\"type\": \"bar\"}, {\"type\": \"bar\"}]\n",
    "    ]\n",
    ")\n",
    "\n",
    "# Chart 1: Severity distribution\n",
    "severity_counts = {}\n",
    "for cat in attack_taxonomy.values():\n",
    "    sev = cat['severity']\n",
    "    severity_counts[sev] = severity_counts.get(sev, 0) + 1\n",
    "\n",
    "fig.add_trace(\n",
    "    go.Bar(\n",
    "        x=list(severity_counts.keys()),\n",
    "        y=list(severity_counts.values()),\n",
    "        marker=dict(color=['#e74c3c', '#f39c12']),\n",
    "        text=list(severity_counts.values()),\n",
    "        textposition='outside'\n",
    "    ),\n",
    "    row=1, col=1\n",
    ")\n",
    "\n",
    "# Chart 2: Examples per category\n",
    "categories = [cat['name'].split()[0] for cat in attack_taxonomy.values()]\n",
    "example_counts = [len(cat['examples']) for cat in attack_taxonomy.values()]\n",
    "\n",
    "fig.add_trace(\n",
    "    go.Bar(\n",
    "        x=categories,\n",
    "        y=example_counts,\n",
    "        marker=dict(color='#3498db'),\n",
    "        text=example_counts,\n",
    "        textposition='outside'\n",
    "    ),\n",
    "    row=1, col=2\n",
    ")\n",
    "\n",
    "# Chart 3: Keywords per category\n",
    "keyword_counts = [len(cat['keywords']) for cat in attack_taxonomy.values()]\n",
    "\n",
    "fig.add_trace(\n",
    "    go.Bar(\n",
    "        x=categories,\n",
    "        y=keyword_counts,\n",
    "        marker=dict(color='#27ae60'),\n",
    "        text=keyword_counts,\n",
    "        textposition='outside'\n",
    "    ),\n",
    "    row=2, col=1\n",
    ")\n",
    "\n",
    "# Chart 4: FP risk assessment\n",
    "fp_risk_counts = [len(cat['false_positive_risks']) for cat in attack_taxonomy.values()]\n",
    "\n",
    "fig.add_trace(\n",
    "    go.Bar(\n",
    "        x=categories,\n",
    "        y=fp_risk_counts,\n",
    "        marker=dict(color='#f39c12'),\n",
    "        text=fp_risk_counts,\n",
    "        textposition='outside'\n",
    "    ),\n",
    "    row=2, col=2\n",
    ")\n",
    "\n",
    "fig.update_xaxes(title_text=\"Severity\", row=1, col=1)\n",
    "fig.update_yaxes(title_text=\"Count\", row=1, col=1)\n",
    "fig.update_xaxes(title_text=\"Category\", row=1, col=2, tickangle=45)\n",
    "fig.update_yaxes(title_text=\"Example Count\", row=1, col=2)\n",
    "fig.update_xaxes(title_text=\"Category\", row=2, col=1, tickangle=45)\n",
    "fig.update_yaxes(title_text=\"Keyword Count\", row=2, col=1)\n",
    "fig.update_xaxes(title_text=\"Category\", row=2, col=2, tickangle=45)\n",
    "fig.update_yaxes(title_text=\"FP Risk Factors\", row=2, col=2)\n",
    "\n",
    "fig.update_layout(\n",
    "    height=900,\n",
    "    title_text=\"Phase 2 Day 11: Attack Taxonomy Overview\",\n",
    "    title_x=0.5,\n",
    "    showlegend=False\n",
    ")\n",
    "\n",
    "config = {\n",
    "    'toImageButtonOptions': {\n",
    "        'format': 'png',\n",
    "        'filename': 'phase2_day11_attack_taxonomy',\n",
    "        'height': 900,\n",
    "        'width': 1400,\n",
    "        'scale': 2\n",
    "    },\n",
    "    'displayModeBar': True,\n",
    "    'displaylogo': False\n",
    "}\n",
    "\n",
    "fig.show(config=config)\n",
    "\n",
    "print(\"\\nVisualizations generated successfully\")\n",
    "\n",
    "print(\"\\n\" + \"=\" * 80)\n",
    "print(\"SAVING ATTACK TAXONOMY DOCUMENTATION\")\n",
    "print(\"=\" * 80)\n",
    "\n",
    "# Save complete taxonomy\n",
    "taxonomy_doc = {\n",
    "    \"document_metadata\": {\n",
    "        \"title\": \"SQL Injection Attack Taxonomy\",\n",
    "        \"version\": \"1.0\",\n",
    "        \"created_date\": datetime.now().strftime('%Y-%m-%d %H:%M:%S'),\n",
    "        \"phase\": \"Phase 2 - Day 11\",\n",
    "        \"author\": \"Rule Engine Development Team\"\n",
    "    },\n",
    "    \"attack_categories\": attack_taxonomy,\n",
    "    \"operational_requirements\": operational_requirements,\n",
    "    \"detection_behavior\": detection_behavior,\n",
    "    \"summary\": {\n",
    "        \"total_categories\": len(attack_taxonomy),\n",
    "        \"total_examples\": sum(len(cat['examples']) for cat in attack_taxonomy.values()),\n",
    "        \"total_keywords\": sum(len(cat['keywords']) for cat in attack_taxonomy.values()),\n",
    "        \"severity_distribution\": severity_counts\n",
    "    }\n",
    "}\n",
    "\n",
    "taxonomy_path = '../reports/phase2/attack_taxonomy.json'\n",
    "with open(taxonomy_path, 'w') as f:\n",
    "    json.dump(taxonomy_doc, f, indent=4)\n",
    "\n",
    "print(f\"\\nAttack taxonomy saved: {taxonomy_path}\")\n",
    "\n",
    "# Create human-readable markdown\n",
    "markdown_content = f\"\"\"# SQL Injection Attack Taxonomy\n",
    "**Version:** 1.0  \n",
    "**Date:** {datetime.now().strftime('%Y-%m-%d')}  \n",
    "**Phase:** Phase 2 - Rule Engine Development\n",
    "\n",
    "## Overview\n",
    "This document defines the 6 primary SQL injection attack categories, their characteristics, and detection requirements.\n",
    "\n",
    "## Attack Categories\n",
    "\n",
    "\"\"\"\n",
    "\n",
    "for key, category in attack_taxonomy.items():\n",
    "    markdown_content += f\"\"\"### {category['category_id']}: {category['name']}\n",
    "\n",
    "**Severity:** {category['severity']}  \n",
    "**Description:** {category['description']}\n",
    "\n",
    "**Technical Details:**  \n",
    "{category['technical_details']}\n",
    "\n",
    "**Typical Targets:**\n",
    "\"\"\"\n",
    "    for target in category['typical_targets']:\n",
    "        markdown_content += f\"- {target}\\n\"\n",
    "    \n",
    "    markdown_content += f\"\"\"\n",
    "**Detection Strategy:** {category['detection_strategy']}\n",
    "\n",
    "**Example Attacks:**\n",
    "\"\"\"\n",
    "    for example in category['examples'][:5]:\n",
    "        markdown_content += f\"``````\\n\"\n",
    "    \n",
    "    markdown_content += f\"\"\"\n",
    "**Keywords:** {', '.join(category['keywords'])}\n",
    "\n",
    "**False Positive Risks:**\n",
    "\"\"\"\n",
    "    for risk in category['false_positive_risks']:\n",
    "        markdown_content += f\"- {risk}\\n\"\n",
    "    \n",
    "    markdown_content += \"\\n---\\n\\n\"\n",
    "\n",
    "markdown_content += f\"\"\"## Operational Requirements\n",
    "\n",
    "### Performance\n",
    "- Max Latency: {operational_requirements['performance']['max_latency_per_query_ms']}ms per query\n",
    "- Target Throughput: {operational_requirements['performance']['target_throughput_queries_per_sec']} queries/sec\n",
    "- Memory Limit: {operational_requirements['performance']['memory_limit_mb']}MB\n",
    "\n",
    "### Accuracy Targets\n",
    "- Overall Precision: ≥ {operational_requirements['accuracy']['target_precision_overall']}\n",
    "- Overall Recall: ≥ {operational_requirements['accuracy']['target_recall_overall']}\n",
    "- Overall F1-Score: ≥ {operational_requirements['accuracy']['target_f1_overall']}\n",
    "- High-Confidence Rules Precision: ≥ {operational_requirements['accuracy']['target_precision_high_confidence_rules']}\n",
    "- Max False Positive Rate: ≤ {operational_requirements['accuracy']['max_false_positive_rate']}\n",
    "- Max False Negative Rate: ≤ {operational_requirements['accuracy']['max_false_negative_rate']}\n",
    "\n",
    "## Next Steps\n",
    "1. Day 12: Rule design and pattern engineering\n",
    "2. Day 13-15: Rule implementation and validation\n",
    "3. Day 16-18: Testing and performance optimization\n",
    "\"\"\"\n",
    "\n",
    "markdown_path = '../reports/phase2/attack_taxonomy.md'\n",
    "with open(markdown_path, 'w') as f:\n",
    "    f.write(markdown_content)\n",
    "\n",
    "print(f\"Human-readable taxonomy saved: {markdown_path}\")\n",
    "\n",
    "print(\"\\n\" + \"=\" * 80)\n",
    "print(\"DAY 11 COMPLETED - ATTACK TAXONOMY DEFINED\")\n",
    "print(\"=\" * 80)\n",
    "\n",
    "print(\"\\nDeliverables Created:\")\n",
    "print(\"  1. attack_taxonomy.json - Complete taxonomy with all details\")\n",
    "print(\"  2. attack_taxonomy.md - Human-readable documentation\")\n",
    "print(\"  3. Interactive visualizations - Attack overview charts\")\n",
    "\n",
    "print(\"\\nKey Statistics:\")\n",
    "print(f\"  Total attack categories: {len(attack_taxonomy)}\")\n",
    "print(f\"  Total example payloads: {sum(len(cat['examples']) for cat in attack_taxonomy.values())}\")\n",
    "print(f\"  Total keywords tracked: {sum(len(cat['keywords']) for cat in attack_taxonomy.values())}\")\n",
    "print(f\"  Severity levels: {len(severity_counts)} (HIGH, CRITICAL)\")\n",
    "\n",
    "print(\"\\nOperational Targets Set:\")\n",
    "print(f\"  Max latency: {operational_requirements['performance']['max_latency_per_query_ms']}ms per query\")\n",
    "print(f\"  Target F1-score: ≥ {operational_requirements['accuracy']['target_f1_overall']}\")\n",
    "print(f\"  Max FP rate: ≤ {operational_requirements['accuracy']['max_false_positive_rate']}\")\n",
    "\n",
    "print(\"\\nNext: Day 12 (Rule design and pattern engineering)\")\n"
   ]
  },
  {
   "cell_type": "code",
   "execution_count": null,
   "id": "1556a127",
   "metadata": {},
   "outputs": [],
   "source": []
  },
  {
   "cell_type": "code",
   "execution_count": null,
   "id": "38a0ade1",
   "metadata": {},
   "outputs": [],
   "source": []
  },
  {
   "cell_type": "code",
   "execution_count": null,
   "id": "07969c34",
   "metadata": {},
   "outputs": [],
   "source": []
  },
  {
   "cell_type": "code",
   "execution_count": null,
   "metadata": {},
   "outputs": [],
   "source": []
  }
 ],
 "metadata": {
  "kernelspec": {
   "display_name": "tfenv",
   "language": "python",
   "name": "python3"
  },
  "language_info": {
   "codemirror_mode": {
    "name": "ipython",
    "version": 3
   },
   "file_extension": ".py",
   "mimetype": "text/x-python",
   "name": "python",
   "nbconvert_exporter": "python",
   "pygments_lexer": "ipython3",
   "version": "3.10.18"
  }
 },
 "nbformat": 4,
 "nbformat_minor": 5
}
